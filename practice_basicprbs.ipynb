{
  "nbformat": 4,
  "nbformat_minor": 0,
  "metadata": {
    "colab": {
      "name": "practice_basicprbs.ipynb",
      "provenance": [],
      "authorship_tag": "ABX9TyNo2o9P+PbPesQ5TdsA38ED",
      "include_colab_link": true
    },
    "kernelspec": {
      "name": "python3",
      "display_name": "Python 3"
    }
  },
  "cells": [
    {
      "cell_type": "markdown",
      "metadata": {
        "id": "view-in-github",
        "colab_type": "text"
      },
      "source": [
        "<a href=\"https://colab.research.google.com/github/18101003rakin/cse_309/blob/master/practice_basicprbs.ipynb\" target=\"_parent\"><img src=\"https://colab.research.google.com/assets/colab-badge.svg\" alt=\"Open In Colab\"/></a>"
      ]
    },
    {
      "cell_type": "markdown",
      "metadata": {
        "id": "x9ZUfJwZPcl-",
        "colab_type": "text"
      },
      "source": [
        "1. **even-odd**"
      ]
    },
    {
      "cell_type": "code",
      "metadata": {
        "id": "X3_oYgq9OI9u",
        "colab_type": "code",
        "colab": {
          "base_uri": "https://localhost:8080/",
          "height": 50
        },
        "outputId": "8a60cbc6-2dcb-434e-c0e0-8efd1f0cc6bf"
      },
      "source": [
        "number = int(input(\"\"))\n",
        "if (number%2==0):\n",
        "  print(\"Even\")\n",
        "else:\n",
        "  print(\"Odd\")  "
      ],
      "execution_count": null,
      "outputs": [
        {
          "output_type": "stream",
          "text": [
            "4\n",
            "Even\n"
          ],
          "name": "stdout"
        }
      ]
    },
    {
      "cell_type": "markdown",
      "metadata": {
        "id": "a-RjBXCYPiga",
        "colab_type": "text"
      },
      "source": [
        "2. **grade**"
      ]
    },
    {
      "cell_type": "code",
      "metadata": {
        "id": "JuDJvrpnP3Wg",
        "colab_type": "code",
        "colab": {
          "base_uri": "https://localhost:8080/",
          "height": 50
        },
        "outputId": "5c79d147-0684-459b-c127-173093fde855"
      },
      "source": [
        "mark = float(input())\n",
        "if(mark>=80 and mark<=100):\n",
        "  print(\"A+\")\n",
        "elif(mark>=70 and mark<=80):\n",
        "  print(\"A\")\n",
        "elif(mark>=60 and mark<=70):\n",
        "  print(\"A-\")\n",
        "elif(mark>=50 and mark<=60):\n",
        "  print(\"B\")\n",
        "elif(mark>=40 and mark<=50):\n",
        "  print(\"C\");\n",
        "elif(mark>=33 and mark<=40):\n",
        "  print(\"D\")\n",
        "elif(mark<=32):\n",
        "  print(\"F\")            "
      ],
      "execution_count": null,
      "outputs": [
        {
          "output_type": "stream",
          "text": [
            "60.3\n",
            "A-\n"
          ],
          "name": "stdout"
        }
      ]
    },
    {
      "cell_type": "markdown",
      "metadata": {
        "id": "xsY2gOYUTCD3",
        "colab_type": "text"
      },
      "source": [
        "3. **string divition**"
      ]
    },
    {
      "cell_type": "code",
      "metadata": {
        "id": "S6ajGxQnTR-A",
        "colab_type": "code",
        "colab": {
          "base_uri": "https://localhost:8080/",
          "height": 118
        },
        "outputId": "25f463fd-8bb9-4af7-9d29-094d1440de6e"
      },
      "source": [
        "string = str(input(\"\"))\n",
        "string_1=string[0:3]\n",
        "string_2=string[3:6]\n",
        "string_3=string[6:9]\n",
        "string_4=string[9:12]\n",
        "\n",
        "print(string_1)\n",
        "print(string_2)\n",
        "print(string_3)\n",
        "print(string_4)\n",
        "\n",
        "string_list=string_4+string_3+string_2+string_1\n",
        "print(string_list)\n"
      ],
      "execution_count": null,
      "outputs": [
        {
          "output_type": "stream",
          "text": [
            "zxcvbnmlkjhg\n",
            "zxc\n",
            "vbn\n",
            "mlk\n",
            "jhg\n",
            "jhgmlkvbnzxc\n"
          ],
          "name": "stdout"
        }
      ]
    },
    {
      "cell_type": "markdown",
      "metadata": {
        "id": "6bUXfQirWddD",
        "colab_type": "text"
      },
      "source": [
        "4. **info**"
      ]
    },
    {
      "cell_type": "code",
      "metadata": {
        "id": "v4NdlDbnWi8c",
        "colab_type": "code",
        "colab": {
          "base_uri": "https://localhost:8080/",
          "height": 70
        },
        "outputId": "bcea9779-e725-438d-8245-e51ec997d5dc"
      },
      "source": [
        "id = str(input(\" \"))\n",
        "\n",
        "info_1 = {\n",
        "    \"ID\" : \"1\",\n",
        "    \"First Name\" : \"Peter\",\n",
        "    \"Last Name\" : \"Lee\",\n",
        "    \"E-mail\" : \"plee@university.edu\",\n",
        "    \"Year of Birth\" : \"1992\"\n",
        "}\n",
        "info_2 = {\n",
        "    \"ID\" : \"2\",\n",
        "    \"First Name\" : \"Jonathan\",\n",
        "    \"Last Name\" : \"Edwards\",\n",
        "    \"E-mail\" : \"jedwards@university.edu\",\n",
        "    \"Year of Birth\" : \"1994\"\n",
        "}\n",
        "\n",
        "info_3 = {\n",
        "    \"ID\" : \"3\",\n",
        "    \"First Name\" : \"Marilyn\",\n",
        "    \"Last Name\" : \"Johnson\",\n",
        "    \"E-mail\" : \"mjohnson@university.edu\",\n",
        "    \"Year of Birth\" : \"1993\"\n",
        "}\n",
        "\n",
        "info_4 = {\n",
        "    \"ID\" : \"6\",\n",
        "    \"First Name\" : \"Joe\",\n",
        "    \"Last Name\" : \"Kim\",\n",
        "    \"E-mail\" : \"jkim@university.edu\",\n",
        "    \"Year of Birth\" : \"1992\"\n",
        "}\n",
        "\n",
        "info_5 = {\n",
        "    \"ID\" : \"12\",\n",
        "    \"First Name\" : \"Haley\",\n",
        "    \"Last Name\" : \"Martinez\",\n",
        "    \"E-mail\" : \"hmartinez@university.edu\",\n",
        "    \"Year of Birth\" : \"1993\"\n",
        "}\n",
        "info_list = [info_1,info_2,info_3,info_4,info_5]\n",
        "\n",
        "if(id==\"1\"):\n",
        "  print(info_list[0])\n",
        "elif(id==\"2\"):\n",
        "  print(info_list[1])\n",
        "elif(id==\"3\"):\n",
        "  print(info_list[2])\n",
        "elif(id==\"6\"):\n",
        "  print(info_list[3])\n",
        "elif(id==\"12\"):\n",
        "  print(info_list[4])"
      ],
      "execution_count": null,
      "outputs": [
        {
          "output_type": "stream",
          "text": [
            " 12\n",
            "{'ID': '12', 'First Name': 'Haley', 'Last Name': 'Martinez', 'E-mail': 'hmartinez@university.edu', 'Year of Birth': '1993'}\n"
          ],
          "name": "stdout"
        }
      ]
    }
  ]
}
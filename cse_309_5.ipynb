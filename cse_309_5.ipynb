{
  "nbformat": 4,
  "nbformat_minor": 0,
  "metadata": {
    "colab": {
      "name": "cse_309_5.ipynb",
      "provenance": [],
      "authorship_tag": "ABX9TyPeC/dIBTDyL9Ru3stCNhXW",
      "include_colab_link": true
    },
    "kernelspec": {
      "name": "python3",
      "display_name": "Python 3"
    }
  },
  "cells": [
    {
      "cell_type": "markdown",
      "metadata": {
        "id": "view-in-github",
        "colab_type": "text"
      },
      "source": [
        "<a href=\"https://colab.research.google.com/github/18101003rakin/cse_309/blob/master/cse_309_5.ipynb\" target=\"_parent\"><img src=\"https://colab.research.google.com/assets/colab-badge.svg\" alt=\"Open In Colab\"/></a>"
      ]
    },
    {
      "cell_type": "markdown",
      "metadata": {
        "id": "YUxYoz6ppf7j",
        "colab_type": "text"
      },
      "source": [
        ""
      ]
    },
    {
      "cell_type": "markdown",
      "metadata": {
        "id": "9d8l7UU4pmL0",
        "colab_type": "text"
      },
      "source": [
        "loop"
      ]
    },
    {
      "cell_type": "code",
      "metadata": {
        "id": "-y9WfPs4poTN",
        "colab_type": "code",
        "colab": {}
      },
      "source": [
        "for(i=0;i<10;i++){\n",
        "    system.out.print(i)\n",
        "}\n",
        "\n",
        "int i=0;\n",
        "while(i<10){\n",
        "    system.out.print(i);\n",
        "    i++;\n",
        "}\n"
      ],
      "execution_count": null,
      "outputs": []
    },
    {
      "cell_type": "code",
      "metadata": {
        "id": "qN9mAFrMqP9P",
        "colab_type": "code",
        "colab": {
          "base_uri": "https://localhost:8080/",
          "height": 185
        },
        "outputId": "ae3b343a-5477-4301-94c5-1ddf82958917"
      },
      "source": [
        "i=0\n",
        "while(i<10):\n",
        "  print(i)\n",
        "  i=i+1"
      ],
      "execution_count": 1,
      "outputs": [
        {
          "output_type": "stream",
          "text": [
            "0\n",
            "1\n",
            "2\n",
            "3\n",
            "4\n",
            "5\n",
            "6\n",
            "7\n",
            "8\n",
            "9\n"
          ],
          "name": "stdout"
        }
      ]
    },
    {
      "cell_type": "code",
      "metadata": {
        "id": "f-4k33_YqooB",
        "colab_type": "code",
        "colab": {}
      },
      "source": [
        "i=0\n",
        "sum=0\n",
        "while i<0:\n",
        "  if(i==10):\n",
        "    print(i)\n",
        "  else:\n",
        "    print(i, \"+\",end=\" \")  \n",
        "  sum =sum+i\n",
        "  i+=1\n",
        "print(\"=\",sum)  "
      ],
      "execution_count": null,
      "outputs": []
    },
    {
      "cell_type": "code",
      "metadata": {
        "id": "fzXPZjSxsoOI",
        "colab_type": "code",
        "colab": {}
      },
      "source": [
        "start = int(input(\"Start: \"))\n",
        "end_p = int(input(\"End: \"))\n",
        "\n",
        "sum = 0\n",
        "i=start\n",
        "\n",
        "while i<end_p+1 :\n",
        "  if i%2 == 0:\n",
        "    \n",
        "    if(i == end_p):\n",
        "      print(i, end=' ')\n",
        "    else:\n",
        "      print(i, \"+\" , end=' ')\n",
        "    \n",
        "    sum = sum + i\n",
        "\n",
        "  i += 1\n",
        "print(\"=\", sum)"
      ],
      "execution_count": null,
      "outputs": []
    }
  ]
}
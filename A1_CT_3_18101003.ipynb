{
  "nbformat": 4,
  "nbformat_minor": 0,
  "metadata": {
    "colab": {
      "name": "A1_CT_3_18101003.ipynb",
      "provenance": [],
      "collapsed_sections": [],
      "authorship_tag": "ABX9TyN5Ie/5bR6zUM5yTy2BBBg2",
      "include_colab_link": true
    },
    "kernelspec": {
      "name": "python3",
      "display_name": "Python 3"
    }
  },
  "cells": [
    {
      "cell_type": "markdown",
      "metadata": {
        "id": "view-in-github",
        "colab_type": "text"
      },
      "source": [
        "<a href=\"https://colab.research.google.com/github/18101003rakin/cse_309/blob/master/A1_CT_3_18101003.ipynb\" target=\"_parent\"><img src=\"https://colab.research.google.com/assets/colab-badge.svg\" alt=\"Open In Colab\"/></a>"
      ]
    },
    {
      "cell_type": "markdown",
      "metadata": {
        "id": "i7HO97sgv7Eq",
        "colab_type": "text"
      },
      "source": [
        "***1. Sum the following series using for loop:\n",
        "1 + 4 + 9 + 16 + ….. + Up to n-th term= ? (Hint: square series)***"
      ]
    },
    {
      "cell_type": "code",
      "metadata": {
        "id": "mqB-IbjPwRJc",
        "colab_type": "code",
        "colab": {
          "base_uri": "https://localhost:8080/",
          "height": 50
        },
        "outputId": "48a883e2-4ffb-4293-aaac-baebf621b674"
      },
      "source": [
        "n = int(input(\"n = \"))\n",
        "i= 1\n",
        "sum=0\n",
        "\n",
        "for i in range(i,n+1):\n",
        "  sqr = i*i\n",
        "  i=i+1\n",
        "  sum = sum+sqr\n",
        "print(sum)  \n"
      ],
      "execution_count": 1,
      "outputs": [
        {
          "output_type": "stream",
          "text": [
            "n = 5\n",
            "55\n"
          ],
          "name": "stdout"
        }
      ]
    },
    {
      "cell_type": "markdown",
      "metadata": {
        "id": "Ud1alPecvw4l",
        "colab_type": "text"
      },
      "source": [
        "**2. You have a group of 3 students. Each student has a name, ID and dept stored in a dictionary. And all 3 students are stored in a “students” dictionary. Now use a loop to iterate through the “students” dictionary and print only the “name” of all the students.**"
      ]
    },
    {
      "cell_type": "code",
      "metadata": {
        "id": "zoyfTviVsBFi",
        "colab_type": "code",
        "colab": {
          "base_uri": "https://localhost:8080/",
          "height": 67
        },
        "outputId": "ec0d3eb6-13db-464e-d35d-aef2df83af3a"
      },
      "source": [
        "student_1 = {\n",
        "    \"Name\" : \"Joy Iqbal\",\n",
        "    \"ID\" : 18101020,\n",
        "    \"Dept\" : \"CSE\"\n",
        "}\n",
        "student_2 = {\n",
        "    \"Name\" : \"Nafees Kabir\",\n",
        "    \"ID\" : 18101008,\n",
        "    \"Dept\" : \"EEE\"\n",
        "}\n",
        "student_3 = {\n",
        "    \"Name\" : \"Yasin Arafat Mredul\",\n",
        "    \"ID\" : 18101027,\n",
        "    \"Dept\" : \"CE\"\n",
        "}\n",
        "\n",
        "students = {\n",
        "    18101020:student_1,\n",
        "    18101008:student_2,\n",
        "    18101027:student_3\n",
        "}\n",
        "\n",
        "for s in students:\n",
        "  print(students[s][\"Name\"])"
      ],
      "execution_count": null,
      "outputs": [
        {
          "output_type": "stream",
          "text": [
            "Joy Iqbal\n",
            "Nafees Kabir\n",
            "Yasin Arafat Mredul\n"
          ],
          "name": "stdout"
        }
      ]
    }
  ]
}
{
  "nbformat": 4,
  "nbformat_minor": 0,
  "metadata": {
    "colab": {
      "name": "practice_22.ipynb",
      "provenance": [],
      "authorship_tag": "ABX9TyMgHpP5vwW1xvP14UTetySk",
      "include_colab_link": true
    },
    "kernelspec": {
      "name": "python3",
      "display_name": "Python 3"
    }
  },
  "cells": [
    {
      "cell_type": "markdown",
      "metadata": {
        "id": "view-in-github",
        "colab_type": "text"
      },
      "source": [
        "<a href=\"https://colab.research.google.com/github/18101003rakin/cse_309/blob/master/practice_22.ipynb\" target=\"_parent\"><img src=\"https://colab.research.google.com/assets/colab-badge.svg\" alt=\"Open In Colab\"/></a>"
      ]
    },
    {
      "cell_type": "code",
      "metadata": {
        "id": "WgM2KiBhoIPm",
        "colab_type": "code",
        "colab": {
          "base_uri": "https://localhost:8080/",
          "height": 50
        },
        "outputId": "7b27aed7-4525-4978-c31f-bb728806b6d7"
      },
      "source": [
        "#access dictionary and list using forloop\n",
        "id = int(input(\" \"))\n",
        "\n",
        "students = {\n",
        "  1 : {\n",
        "    \"ID\" : \"1\",\n",
        "    \"First Name\" : \"Peter\",\n",
        "    \"Last Name\" : \"Lee\",\n",
        "    \"E-mail\" : \"plee@university.edu\",\n",
        "    \"Year of Birth\" : \"1992\"\n",
        "},\n",
        "  2 : {\n",
        "    \"ID\" : \"2\",\n",
        "    \"First Name\" : \"Jonathan\",\n",
        "    \"Last Name\" : \"Edwards\",\n",
        "    \"E-mail\" : \"jedwards@university.edu\",\n",
        "    \"Year of Birth\" : \"1994\"\n",
        "},\n",
        "\n",
        "  3 : {\n",
        "    \"ID\" : \"3\",\n",
        "    \"First Name\" : \"Marilyn\",\n",
        "    \"Last Name\" : \"Johnson\",\n",
        "    \"E-mail\" : \"mjohnson@university.edu\",\n",
        "    \"Year of Birth\" : \"1993\"\n",
        "},\n",
        "\n",
        "  6 : {\n",
        "    \"ID\" : \"6\",\n",
        "    \"First Name\" : \"Joe\",\n",
        "    \"Last Name\" : \"Kim\",\n",
        "    \"E-mail\" : \"jkim@university.edu\",\n",
        "    \"Year of Birth\" : \"1992\"\n",
        "},\n",
        "\n",
        "  12 : {\n",
        "    \"ID\" : \"12\",\n",
        "    \"First Name\" : \"Haley\",\n",
        "    \"Last Name\" : \"Martinez\",\n",
        "    \"E-mail\" : \"hmartinez@university.edu\",\n",
        "    \"Year of Birth\" : \"1993\"\n",
        "}\n",
        "}\n",
        "info_list = [1, 2, 3, 6, 12]\n",
        "for item in info_list:\n",
        "  if id==item:\n",
        "    print(students[id])\n",
        "    break\n",
        "else:\n",
        "    print(\"Invalid id\")\n",
        "\n",
        "#students[id]\n"
      ],
      "execution_count": 5,
      "outputs": [
        {
          "output_type": "stream",
          "text": [
            " 45\n",
            "Invalid id\n"
          ],
          "name": "stdout"
        }
      ]
    }
  ]
}
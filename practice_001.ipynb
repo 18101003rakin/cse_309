{
  "nbformat": 4,
  "nbformat_minor": 0,
  "metadata": {
    "colab": {
      "name": "practice_001.ipynb",
      "provenance": [],
      "authorship_tag": "ABX9TyNSQyWl/lyymcW3W3QmlH1u",
      "include_colab_link": true
    },
    "kernelspec": {
      "name": "python3",
      "display_name": "Python 3"
    }
  },
  "cells": [
    {
      "cell_type": "markdown",
      "metadata": {
        "id": "view-in-github",
        "colab_type": "text"
      },
      "source": [
        "<a href=\"https://colab.research.google.com/github/18101003rakin/cse_309/blob/master/practice_001.ipynb\" target=\"_parent\"><img src=\"https://colab.research.google.com/assets/colab-badge.svg\" alt=\"Open In Colab\"/></a>"
      ]
    },
    {
      "cell_type": "code",
      "metadata": {
        "id": "TQWxtgsVPk_x",
        "colab_type": "code",
        "colab": {
          "base_uri": "https://localhost:8080/",
          "height": 50
        },
        "outputId": "1bc76ca0-86be-4758-a3d3-fce76d25db7c"
      },
      "source": [
        "id = int(input(\"ID : \"))\n",
        "\n",
        "s1 = {\n",
        "      \"ID\" : 1,\n",
        "       \"First Name\": \"Peter\",\n",
        "       \"Last Name\" : \"Lee\",\n",
        "       \"Email\" : \"plee@university.edu\",\n",
        "       \"Year of Birth\" : 1992\n",
        "  }\n",
        "\n",
        "s2 = {\n",
        "      \"ID\": 2,\n",
        "      \"First Name\" : \"Jonathan\",\n",
        "       \"Last Name\" : \"Edwards\",\n",
        "       \"Email\" : \"jedwards@university.edu\",\n",
        "       \"Year of Birth\" : 1994\n",
        "\n",
        "  }\n",
        "\n",
        "s3 = {\n",
        "      \"ID\": 3,\n",
        "      \"First Name\" : \"Marilyn\",\n",
        "       \"Last Name\" : \"Johnson\",\n",
        "       \"Email\" : \"mjohnson@university.edu\",\n",
        "       \"Year of Birth\" : 1993\n",
        "\n",
        "  }\n",
        "\n",
        "  \n",
        "students = {\n",
        "    1:s1,\n",
        "    2:s2,\n",
        "    3:s3\n",
        "}\n",
        "for i in students:\n",
        "  if id==i:\n",
        "    print(students[i][\"Email\"])\n",
        "    break\n",
        "else:\n",
        "  print(\"invalid id\")    \n",
        "    \n",
        " "
      ],
      "execution_count": 39,
      "outputs": [
        {
          "output_type": "stream",
          "text": [
            "ID : 1\n",
            "plee@university.edu\n"
          ],
          "name": "stdout"
        }
      ]
    }
  ]
}